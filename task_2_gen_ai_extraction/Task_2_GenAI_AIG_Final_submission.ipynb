{
  "nbformat": 4,
  "nbformat_minor": 0,
  "metadata": {
    "colab": {
      "provenance": [],
      "gpuType": "T4"
    },
    "kernelspec": {
      "name": "python3",
      "display_name": "Python 3"
    },
    "language_info": {
      "name": "python"
    },
    "accelerator": "GPU"
  },
  "cells": [
    {
      "cell_type": "code",
      "source": [
        "import os\n",
        "from pyspark.sql import SparkSession\n",
        "from pyspark.sql.functions import udf, col, explode, monotonically_increasing_id, input_file_name\n",
        "from pyspark.sql.types import StringType, ArrayType, StructType, StructField, LongType, FloatType\n",
        "import pandas as pd\n",
        "from pyspark.sql.functions import pandas_udf\n",
        "\n",
        "\n",
        "from sentence_transformers import SentenceTransformer\n",
        "from bs4 import BeautifulSoup\n",
        "\n",
        "from langchain.text_splitter import RecursiveCharacterTextSplitter\n"
      ],
      "metadata": {
        "id": "HO5i3u3-omMk"
      },
      "execution_count": null,
      "outputs": []
    },
    {
      "cell_type": "code",
      "source": [
        "\n",
        "#  Initialize Spark Session\n",
        "spark = SparkSession.builder \\\n",
        "    .appName(\"SEC_Filings_Embedding_Pipeline\") \\\n",
        "    .master(\"local[*]\") \\\n",
        "    .config(\"spark.driver.memory\", \"4g\") \\\n",
        "    .getOrCreate()\n",
        "\n",
        "print(\"Spark Session Initialized.\")"
      ],
      "metadata": {
        "colab": {
          "base_uri": "https://localhost:8080/"
        },
        "id": "MHlaoqgaoogT",
        "outputId": "890132cd-549c-4a0b-b6ad-4d490b497f0d"
      },
      "execution_count": null,
      "outputs": [
        {
          "output_type": "stream",
          "name": "stdout",
          "text": [
            "Spark Session Initialized.\n"
          ]
        }
      ]
    },
    {
      "cell_type": "code",
      "source": [
        "# oad Data\n",
        "file_paths = [\n",
        "    '/content/5272_10K_2018_0000005272-19-000023.htm',\n",
        "    '/content/5272_10K_2019_0001104659-20-023889.htm',\n",
        "    '/content/5272_10K_2020_0001104659-21-025742.htm'\n",
        "]\n",
        "\n",
        "# read the whole file as a single record, better for parsing.\n",
        "raw_files_df = spark.read.text(file_paths, wholetext=True) \\\n",
        "    .withColumn(\"source_file\", input_file_name())\n",
        "\n",
        "print(\"Raw HTML files loaded.\")\n",
        "raw_files_df.show(truncate=80)\n"
      ],
      "metadata": {
        "colab": {
          "base_uri": "https://localhost:8080/"
        },
        "id": "e3wASJEwoqGG",
        "outputId": "405e960b-1daf-4fc1-855b-332085b25c2d"
      },
      "execution_count": null,
      "outputs": [
        {
          "output_type": "stream",
          "name": "stdout",
          "text": [
            "Raw HTML files loaded.\n",
            "+--------------------------------------------------------------------------------+------------------------------------------------------+\n",
            "|                                                                           value|                                           source_file|\n",
            "+--------------------------------------------------------------------------------+------------------------------------------------------+\n",
            "|<?xml version=\"1.0\" encoding=\"UTF-8\"?>\\n<!--Documents rendered in XBRL format...|file:///content/5272_10K_2019_0001104659-20-023889.htm|\n",
            "|<?xml version=\"1.0\" encoding=\"UTF-8\"?>\\n<!--Inline XBRL document created by C...|file:///content/5272_10K_2020_0001104659-21-025742.htm|\n",
            "|<DOCUMENT>\\n<TYPE>10-K\\n<SEQUENCE>1\\n<FILENAME>maindocument001.htm\\n<DESCRIPT...|file:///content/5272_10K_2018_0000005272-19-000023.htm|\n",
            "+--------------------------------------------------------------------------------+------------------------------------------------------+\n",
            "\n"
          ]
        }
      ]
    },
    {
      "cell_type": "code",
      "source": [
        "# Pre-processing and Chunking (Step 1) ---\n",
        "\n",
        "# UDF to parse HTML and extract clean text\n",
        "@udf(returnType=StringType())\n",
        "def parse_html_to_text(html_content):\n",
        "    \"\"\"\n",
        "    HTML to cleantext. (Removes script, style, and other non-relevant tags.\n",
        "    \"\"\"\n",
        "    if not html_content:\n",
        "        return \"\"\n",
        "    soup = BeautifulSoup(html_content, 'html.parser')\n",
        "\n",
        "    # Remove script and style elements\n",
        "    for script_or_style in soup(['script', 'style']):\n",
        "        script_or_style.decompose()\n",
        "\n",
        "    # Gets text and clean it up\n",
        "    text = soup.get_text()\n",
        "    lines = (line.strip() for line in text.splitlines())\n",
        "    chunks = (phrase.strip() for line in lines for phrase in line.split(\"  \"))\n",
        "    text = '\\n'.join(chunk for chunk in chunks if chunk)\n",
        "    return text\n",
        "\n",
        "# UDF to split text into chunks\n",
        "@udf(returnType=ArrayType(StringType()))\n",
        "def chunk_text(text):\n",
        "    \"\"\"\n",
        "    Splits a long text into smaller chunks using a recursive character splitter.\n",
        "    \"\"\"\n",
        "    if not text:\n",
        "        return []\n",
        "\n",
        "    text_splitter = RecursiveCharacterTextSplitter(\n",
        "        chunk_size=1000, ##\n",
        "        chunk_overlap=200, ##\n",
        "        length_function=len\n",
        "    )\n",
        "    return text_splitter.split_text(text)\n",
        "\n",
        "# UDFs to process the documents\n",
        "parsed_df = raw_files_df.withColumn(\"parsed_text\", parse_html_to_text(col(\"value\")))\n",
        "chunked_df = parsed_df.withColumn(\"chunk\", explode(chunk_text(col(\"parsed_text\"))))\n",
        "\n",
        "# Adding a unique ID for each chunk\n",
        "chunked_df = chunked_df.withColumn(\"chunk_id\", monotonically_increasing_id())\n",
        "\n",
        "# Select relevant columns and show the result\n",
        "final_chunks_df = chunked_df.select(\"source_file\", \"chunk_id\", \"chunk\")\n",
        "print(\"Documents have been parsed and split into chunks:\")\n",
        "final_chunks_df.show(5, truncate=150)\n",
        "print(f\"Total Chunks Created: {final_chunks_df.count()}\")"
      ],
      "metadata": {
        "colab": {
          "base_uri": "https://localhost:8080/"
        },
        "id": "dO7xsyPHotsm",
        "outputId": "34b5f3cf-fb85-45c8-b7d4-6f264fb3f0b2"
      },
      "execution_count": null,
      "outputs": [
        {
          "output_type": "stream",
          "name": "stdout",
          "text": [
            "Documents have been parsed and split into chunks:\n",
            "+------------------------------------------------------+--------+------------------------------------------------------------------------------------------------------------------------------------------------------+\n",
            "|                                           source_file|chunk_id|                                                                                                                                                 chunk|\n",
            "+------------------------------------------------------+--------+------------------------------------------------------------------------------------------------------------------------------------------------------+\n",
            "|file:///content/5272_10K_2019_0001104659-20-023889.htm|       0|2.50.03False50000000000.062019FY0000005272YesYesLarge Accelerated FilerTrue---P9MYesNoP3YP3YP1YP2Y--12-310.0106\\n0000005272\\naig:CommercialIndustri...|\n",
            "|file:///content/5272_10K_2019_0001104659-20-023889.htm|       1|2019-12-31\\n0000005272\\nus-gaap:AccumulatedNetUnrealizedInvestmentGainLossMember\\nus-gaap:ReclassificationOutOfAccumulatedOtherComprehensiveIncomeM...|\n",
            "|file:///content/5272_10K_2019_0001104659-20-023889.htm|       2|2018-12-31\\n0000005272\\naig:CommercialMortgageMember\\naig:CommercialMortgageCreditQualityIndicatorRangeFourMember\\naig:DebtServiceCoverageRatioRang...|\n",
            "|file:///content/5272_10K_2019_0001104659-20-023889.htm|       3|0000005272\\nus-gaap:VariableInterestEntityNotPrimaryBeneficiaryMember\\naig:AffordableHousingPartnershipMember\\n2018-12-31\\n0000005272\\naig:BondsAva...|\n",
            "|file:///content/5272_10K_2019_0001104659-20-023889.htm|       4|2018-01-01\\n2018-12-31\\n0000005272\\n2018-10-01\\n2018-12-31\\n0000005272\\nus-gaap:RealEstateInvestmentMember\\n2018-01-01\\n2018-12-31\\n0000005272\\naig...|\n",
            "+------------------------------------------------------+--------+------------------------------------------------------------------------------------------------------------------------------------------------------+\n",
            "only showing top 5 rows\n",
            "\n",
            "Total Chunks Created: 5674\n"
          ]
        }
      ]
    },
    {
      "cell_type": "code",
      "source": [
        "# Convert Chunks to Embeddings (Step 2)\n",
        "\n",
        "# Pandas UDF for efficient, batched embedding generation.\n",
        "@pandas_udf(ArrayType(FloatType())) ##\n",
        "def generate_embeddings_udf(texts: pd.Series) -> pd.Series:\n",
        "    \"\"\"\n",
        "    Pandas UDF to generate embeddings for a batch of text chunks.\n",
        "    The input `texts` is a pandas.Series.\n",
        "    \"\"\"\n",
        "    model = SentenceTransformer('all-MiniLM-L6-v2')\n",
        "    # embeddings for the entire pandas Series at once.\n",
        "    embeddings = model.encode(texts.tolist(), convert_to_numpy=True)\n",
        "    return pd.Series(list(embeddings))\n",
        "\n",
        "\n",
        "embeddings_df = final_chunks_df.withColumn(\"embedding\", generate_embeddings_udf(col(\"chunk\")))\n",
        "\n",
        "print(\"Embeddings generated for each chunk:\")\n",
        "embeddings_df.select(\"chunk_id\", \"chunk\", \"embedding\").show(5, truncate=80)\n",
        "\n",
        "# embedding dimension\n",
        "first_embedding = embeddings_df.select(\"embedding\").first()[0]\n",
        "print(f\"\\n Dimension of a single embedding vector: {len(first_embedding)}\")"
      ],
      "metadata": {
        "colab": {
          "base_uri": "https://localhost:8080/"
        },
        "id": "Y3ksWo5pows2",
        "outputId": "21f856d4-2cd0-43f3-c491-8dc4bdb691fa"
      },
      "execution_count": null,
      "outputs": [
        {
          "output_type": "stream",
          "name": "stdout",
          "text": [
            "Embeddings generated for each chunk:\n",
            "+--------+--------------------------------------------------------------------------------+--------------------------------------------------------------------------------+\n",
            "|chunk_id|                                                                           chunk|                                                                       embedding|\n",
            "+--------+--------------------------------------------------------------------------------+--------------------------------------------------------------------------------+\n",
            "|       0|2.50.03False50000000000.062019FY0000005272YesYesLarge Accelerated FilerTrue--...|[-0.05882915, 0.008559602, -0.056734324, -0.040464327, 2.3026661E-4, -0.01197...|\n",
            "|       1|2019-12-31\\n0000005272\\nus-gaap:AccumulatedNetUnrealizedInvestmentGainLossMem...|[-0.059596185, -6.809081E-4, -0.037426803, -0.018154355, -0.055727765, 0.0540...|\n",
            "|       2|2018-12-31\\n0000005272\\naig:CommercialMortgageMember\\naig:CommercialMortgageC...|[-0.059160706, 0.004787055, -0.026806442, -0.020511394, -0.032710087, 0.05041...|\n",
            "|       3|0000005272\\nus-gaap:VariableInterestEntityNotPrimaryBeneficiaryMember\\naig:Af...|[-0.046782326, 0.004402017, -0.058124978, -0.033331092, -0.03804823, 0.014200...|\n",
            "|       4|2018-01-01\\n2018-12-31\\n0000005272\\n2018-10-01\\n2018-12-31\\n0000005272\\nus-ga...|[-0.043960407, 0.024831481, -0.01397671, 0.006897415, -0.012337155, 0.0238941...|\n",
            "+--------+--------------------------------------------------------------------------------+--------------------------------------------------------------------------------+\n",
            "only showing top 5 rows\n",
            "\n",
            "\n",
            "Dimension of a single embedding vector: 384\n"
          ]
        }
      ]
    },
    {
      "cell_type": "code",
      "source": [
        "embeddings_df"
      ],
      "metadata": {
        "colab": {
          "base_uri": "https://localhost:8080/"
        },
        "id": "TPC-Tit0qZDP",
        "outputId": "d9d621db-728d-4f82-c0e0-eed7fc917d2d"
      },
      "execution_count": null,
      "outputs": [
        {
          "output_type": "execute_result",
          "data": {
            "text/plain": [
              "DataFrame[source_file: string, chunk_id: bigint, chunk: string, embedding: array<float>]"
            ]
          },
          "metadata": {},
          "execution_count": 6
        }
      ]
    },
    {
      "cell_type": "code",
      "source": [
        "import numpy as np\n",
        "from pyspark.sql import SparkSession\n",
        "from pyspark.sql.functions import col, udf, lit, regexp_extract, desc\n",
        "from pyspark.sql.types import FloatType\n",
        "from sentence_transformers import SentenceTransformer\n",
        "\n",
        "model = SentenceTransformer('all-MiniLM-L6-v2')\n",
        "\n",
        "import re\n",
        "import os\n",
        "import numpy as np\n",
        "from pyspark.sql.functions import col, udf, desc, regexp_extract\n",
        "from pyspark.sql.types import FloatType\n",
        "from sentence_transformers import SentenceTransformer\n"
      ],
      "metadata": {
        "id": "4y2R5FeJsyzM"
      },
      "execution_count": null,
      "outputs": []
    },
    {
      "cell_type": "code",
      "source": [
        "# Enhancing DataFrame with a 'year' column Adding it since i forgot to add while creation\n",
        "embeddings_df_with_year = embeddings_df.withColumn(\n",
        "    \"year\",\n",
        "    regexp_extract(col(\"source_file\"), r\"_(\\d{4})_\", 1)\n",
        ")\n",
        "print(\"DataFrame enhanced with 'year' column:\")\n",
        "embeddings_df_with_year.select(\"source_file\", \"year\").distinct().show()"
      ],
      "metadata": {
        "colab": {
          "base_uri": "https://localhost:8080/"
        },
        "id": "bJdzIGvLstor",
        "outputId": "be76da45-d7a2-4b2a-db7e-69091112dc5a"
      },
      "execution_count": null,
      "outputs": [
        {
          "output_type": "stream",
          "name": "stdout",
          "text": [
            "DataFrame enhanced with 'year' column:\n",
            "+--------------------+----+\n",
            "|         source_file|year|\n",
            "+--------------------+----+\n",
            "|file:///content/5...|2019|\n",
            "|file:///content/5...|2020|\n",
            "|file:///content/5...|2018|\n",
            "+--------------------+----+\n",
            "\n"
          ]
        }
      ]
    },
    {
      "cell_type": "code",
      "source": [
        "# The New Intelligent Search Function ---\n",
        "\n",
        "def intelligent_search(query_text: str, embeddings_df, top_k: int = 5):\n",
        "    \"\"\"\n",
        "    Performs a semantic search on the SEC filings DataFrame.\n",
        "    It automatically detects if a year is mentioned in the query and filters\n",
        "    the search to that year's document.\n",
        "\n",
        "    Args:\n",
        "        query_text (str): The user's natural language question.\n",
        "        embeddings_df: The Spark DataFrame containing chunks and embeddings.\n",
        "        top_k (int): The number of top results to return.\n",
        "\n",
        "    Returns:\n",
        "        A Spark DataFrame with the top_k most relevant results.\n",
        "    \"\"\"\n",
        "    print(f\"Received Query: \\\"{query_text}\\\"\")\n",
        "\n",
        "    # Step A: Parse the query to extract a year\n",
        "    year_match = re.search(r'\\b(201[8-9]|202[0-9])\\b', query_text) # Looks for 2018, 2019, 2020...\n",
        "    target_df = embeddings_df\n",
        "\n",
        "    if year_match:\n",
        "        target_year = year_match.group(1)\n",
        "        print(f\"--> Year '{target_year}' detected in query. Filtering data...\")\n",
        "        target_df = embeddings_df.filter(col(\"year\") == target_year)\n",
        "    else:\n",
        "        print(\"--> No year detected in query. Searching across all documents.\")\n",
        "\n",
        "    # Step B: Embed the user's query\n",
        "    query_embedding = model.encode(query_text)\n",
        "    query_embedding_list = query_embedding.tolist()\n",
        "\n",
        "    # Step C: Define the UDF for cosine similarity\n",
        "    # This UDF will now use the 'query_embedding_list' from the function's scope\n",
        "    @udf(returnType=FloatType())\n",
        "    def cosine_similarity_udf(chunk_embedding):\n",
        "        query_vec = np.array(query_embedding_list, dtype=np.float32)\n",
        "        chunk_vec = np.array(chunk_embedding, dtype=np.float32)\n",
        "        dot_product = np.dot(query_vec, chunk_vec)\n",
        "        norm_query = np.linalg.norm(query_vec)\n",
        "        norm_chunk = np.linalg.norm(chunk_vec)\n",
        "        if norm_query == 0 or norm_chunk == 0:\n",
        "            return 0.0\n",
        "        return float(dot_product / (norm_query * norm_chunk))\n",
        "\n",
        "    # Step D: Calculate similarity and find top results\n",
        "    print(f\"Searching {target_df.count()} chunks...\")\n",
        "    results_df = target_df.withColumn(\n",
        "        \"similarity\",\n",
        "        cosine_similarity_udf(col(\"embedding\"))\n",
        "    )\n",
        "\n",
        "    top_results = results_df.orderBy(desc(\"similarity\")).limit(top_k)\n",
        "\n",
        "    return top_results"
      ],
      "metadata": {
        "id": "Iwz5kXZ6vvpO"
      },
      "execution_count": null,
      "outputs": []
    },
    {
      "cell_type": "code",
      "source": [
        "# --- 3. Demonstration ---\n",
        "\n",
        "# Example 1: The user's exact request\n",
        "query1 = \"What was the net profit for the year 2020?\"\n",
        "results1 = intelligent_search(query1, embeddings_df_with_year)\n",
        "\n",
        "print(\"\\n--- Results for Query 1 ---\")\n",
        "for row in results1.collect():\n",
        "    print(f\"Similarity: {row['similarity']:.4f} (from Year: {row['year']})\")\n",
        "    print(f\"Chunk: \\\"{row['chunk'][:250]}...\\\"\") # Truncate for readability\n",
        "    print(\"-\" * 20)\n",
        "\n",
        "\n",
        "# Example 2: A query for a DIFFERENT year (2019)\n",
        "query2 = \"How did the China market perform in 2019?\"\n",
        "results2 = intelligent_search(query2, embeddings_df_with_year)\n",
        "\n",
        "print(\"\\n--- Results for Query 2 ---\")\n",
        "for row in results2.collect():\n",
        "    print(f\"Similarity: {row['similarity']:.4f} (from Year: {row['year']})\")\n",
        "    print(f\"Chunk: \\\"{row['chunk'][:250]}...\\\"\")\n",
        "    print(\"-\" * 20)\n",
        "\n",
        "\n",
        "# Example 3: A query with NO year specified\n",
        "query3 = \"What are the main risks related to competition?\"\n",
        "results3 = intelligent_search(query3, embeddings_df_with_year)\n",
        "\n",
        "print(\"\\n--- Results for Query 3 (All Years) ---\")\n",
        "for row in results3.collect():\n",
        "    print(f\"Similarity: {row['similarity']:.4f} (from Year: {row['year']})\")\n",
        "    print(f\"Chunk: \\\"{row['chunk'][:250]}...\\\"\")\n",
        "    print(\"-\" * 20)"
      ],
      "metadata": {
        "colab": {
          "base_uri": "https://localhost:8080/"
        },
        "collapsed": true,
        "id": "jQDlha90swUa",
        "outputId": "d2145773-37b3-4fc1-9b66-0bf180237e3b"
      },
      "execution_count": null,
      "outputs": [
        {
          "output_type": "stream",
          "name": "stdout",
          "text": [
            "Received Query: \"What was the net profit for the year 2020?\"\n",
            "--> Year '2020' detected in query. Filtering data...\n",
            "Searching 2169 chunks...\n",
            "\n",
            "--- Results for Query 1 ---\n",
            "Similarity: 0.6119 (from Year: 2020)\n",
            "Chunk: \"expenses 541 17 558  525  493Net investment income$12,578$1,053$13,631 $14,619 $13,086(a)Included in the years ended December 31, 2020, 2019 and 2018 was income of $195 million, $177 million and $19 million, respectively, related to fixed maturity se...\"\n",
            "--------------------\n",
            "Similarity: 0.5692 (from Year: 2020)\n",
            "Chunk: \"Our Total revenues were $43.7 billion in 2020. The graph above represents Adjusted revenues. For reconciliation of Adjusted revenues to Total revenues see Note 3 to the Consolidated Financial Statements.(b)\n",
            "General Insurance adjusted revenues is comp...\"\n",
            "--------------------\n",
            "Similarity: 0.5662 (from Year: 2020)\n",
            "Chunk: \"invested assets 20 - - 20           Net Net Realized      Investment Capital  Other  (in millions) Income(Gains) Losses Income TotalDecember 31, 2020        Liabilities:        Policyholder contract deposits$-$2,681$-$2,681Derivative liabilities, net...\"\n",
            "--------------------\n",
            "Similarity: 0.5528 (from Year: 2020)\n",
            "Chunk: \"See Note 10 for details of balances associated with variable interest entities.See accompanying Notes to Consolidated Financial Statements.184 AIG | 2020 Form 10-K TABLE OF CONTENTSAmerican International Group, Inc.Consolidated Statements of Income (...\"\n",
            "--------------------\n",
            "Similarity: 0.5510 (from Year: 2020)\n",
            "Chunk: \"At December 31, 2020 and 2019, included restricted cash of $1 million and $1 million, respectively.See accompanying Notes to Condensed Financial Information of Registrant.AIG | 2020 Form 10-K 337  TABLE OF CONTENTS Condensed Financial Information of ...\"\n",
            "--------------------\n",
            "Received Query: \"How did the China market perform in 2019?\"\n",
            "--> Year '2019' detected in query. Filtering data...\n",
            "Searching 1991 chunks...\n",
            "\n",
            "--- Results for Query 2 ---\n",
            "Similarity: 0.4976 (from Year: 2019)\n",
            "Chunk: \"due to robust equity market returns in 2019, income from an initial public offering of a holding in the private equity portfolio, and an increase in income from fixed maturity securities for which the fair value option was elected. This compares to t...\"\n",
            "--------------------\n",
            "Similarity: 0.4443 (from Year: 2019)\n",
            "Chunk: \"Change(in millions) 2019 2018 2017 2019 vs. 2018 2018 vs. 2017 Revenues:           Premiums$1,861$952$2,398 95%(60)%Policy fees 165 161 174 2 (7) Net investment income 885 786 595 13 32 Other income 1 1 1 - - Benefits and expenses:           Policyho...\"\n",
            "--------------------\n",
            "Similarity: 0.4170 (from Year: 2019)\n",
            "Chunk: \"Per Common Share* *Non-GAAP measure – for reconciliation of Non-GAAP to GAAP measures see Consolidated Results of Operations. AIG’s Outlook – Industry and economic factorsOur business is affected by industry and economic factors such as interest rate...\"\n",
            "--------------------\n",
            "Similarity: 0.4115 (from Year: 2019)\n",
            "Chunk: \"significantly affect the economic performance of the VIE.AIG | 2019 Form 10-K 235 TABLE OF CONTENTS ITEM 8 | Notes to Consolidated Financial Statements | 11. Variable Interest Entities Balance Sheet Classification and Exposure to LossThe following ta...\"\n",
            "--------------------\n",
            "Similarity: 0.4054 (from Year: 2019)\n",
            "Chunk: \"fair value of our interest rate, currency, credit, commodity and equity swaps, options, swaptions, and forward commitments, futures, and forward contracts reported as a component of Other assets, was approximately $0.8 billion at December 31, 2019 an...\"\n",
            "--------------------\n",
            "Received Query: \"What are the main risks related to competition?\"\n",
            "--> No year detected in query. Searching across all documents.\n",
            "Searching 5674 chunks...\n",
            "\n",
            "--- Results for Query 3 (All Years) ---\n",
            "Similarity: 0.6167 (from Year: 2020)\n",
            "Chunk: \"companies, including banks and other life insurance and mutual fund companies. Competition is primarily based on product pricing and design, distribution, financial strength, customer service and ease of doing business.Our business remains competitiv...\"\n",
            "--------------------\n",
            "Similarity: 0.5412 (from Year: 2019)\n",
            "Chunk: \"less suitable or impact our ability to adapt or deploy current products as quickly and effectively as our competitors.Reductions of our credit ratings or IFS ratings or negative publicity may make it more difficult to compete to retain existing custo...\"\n",
            "--------------------\n",
            "Similarity: 0.5031 (from Year: 2018)\n",
            "Chunk: \"risk and loss to which we are exposed.\n",
            "There are,\n",
            "however, inherent limitations to risk management strategies because there may\n",
            "exist, or develop in the future, risks that we have not appropriately\n",
            "anticipated or identified. If our risk management po...\"\n",
            "--------------------\n",
            "Similarity: 0.4928 (from Year: 2020)\n",
            "Chunk: \"a wide variety of risks with different time horizons. We manage these risks throughout the organization, both centrally and locally, through a number of processes and procedures, including, but not limited to:...\"\n",
            "--------------------\n",
            "Similarity: 0.4850 (from Year: 2018)\n",
            "Chunk: \"ability to compete. We also may be subject to costly litigation in the event\n",
            "that another party alleges our operations or activities infringe upon their\n",
            "intellectual property rights, including patent rights, or violate license usage\n",
            "rights. Any such ...\"\n",
            "--------------------\n"
          ]
        }
      ]
    },
    {
      "cell_type": "code",
      "source": [
        "aig_query = \"How did AIG's General Insurance operations perform in 2020, and what were the impacts of catastrophes and COVID-19?\"\n",
        "\n",
        "# --- Execute the search ---\n",
        "aig_results = intelligent_search(aig_query, embeddings_df_with_year, top_k=5)\n",
        "\n",
        "# --- Display the results for validation ---\n",
        "print(\"\\n--- Top 5 Retrieved Chunks for the AIG Query ---\")\n",
        "\n",
        "retrieved_chunks = aig_results.collect()\n",
        "\n",
        "if not retrieved_chunks:\n",
        "    print(\"No results found. Please check the DataFrame and query.\")\n",
        "else:\n",
        "    for i, row in enumerate(retrieved_chunks):\n",
        "        print(f\"Result #{i+1}\")\n",
        "        print(f\"Similarity: {row['similarity']:.4f} (from Year: {row['year']})\")\n",
        "        print(f\"Retrieved Chunk: \\\"{row['chunk']}\\\"\")\n",
        "        print(\"-\" * 30)"
      ],
      "metadata": {
        "colab": {
          "base_uri": "https://localhost:8080/"
        },
        "id": "JBqhDm_xyLww",
        "outputId": "ead06f03-11f2-4802-8450-a4be8e4b60b2"
      },
      "execution_count": null,
      "outputs": [
        {
          "output_type": "stream",
          "name": "stdout",
          "text": [
            "Received Query: \"How did AIG's General Insurance operations perform in 2020, and what were the impacts of catastrophes and COVID-19?\"\n",
            "--> Year '2020' detected in query. Filtering data...\n",
            "Searching 2169 chunks...\n",
            "\n",
            "--- Top 5 Retrieved Chunks for the AIG Query ---\n",
            "Result #1\n",
            "Similarity: 0.7102 (from Year: 2020)\n",
            "Retrieved Chunk: \"the adverse impact of COVID-19, including with respect to AIG’s business, financial condition and results of operations;\n",
            "changes in market and industry conditions, including the significant global economic downturn, volatility in financial and capital markets, prolonged economic recovery and disruptions to AIG’s operations driven by COVID-19 and responses thereto, including new or changed governmental policy and regulatory actions;\n",
            "the occurrence of catastrophic events, both natural and man-made, including COVID-19, other pandemics, civil unrest and the effects of climate change;\n",
            "AIG’s ability to successfully dispose of, monetize and/or acquire businesses or assets or successfully integrate acquired businesses, including any separation of the Life and Retirement business from AIG and the impact any separation may have on AIG, its businesses, employees, contracts and customers;\"\n",
            "------------------------------\n",
            "Result #2\n",
            "Similarity: 0.6998 (from Year: 2020)\n",
            "Retrieved Chunk: \"1 | Business   Maximizing Industry Leadership and Global Footprint  Creating Value through ProfitableGrowth and a Culture of Underwriting and Operational Excellence American International Group, Inc. (AIG) is a leading global insurance organization. We provide a wide range of property casualty insurance, life insurance, retirement solutions, and other financial services to customers in approximately 80 countries and jurisdictions. These diverse offerings include products and services that help businesses and individuals protect their assets, manage risks and provide for retirement security. AIG common stock is listed on the New York Stock Exchange. In addition to natural catastrophes, in 2020, AIG effectively managed through COVID-19 and its collateral effects on the global economy thanks to the strong foundation created since late 2017 to instill a culture of underwriting excellence, adjust risk tolerances, implement a best-in-class reinsurance program, de-risk our balance sheet and\"\n",
            "------------------------------\n",
            "Result #3\n",
            "Similarity: 0.6923 (from Year: 2020)\n",
            "Retrieved Chunk: \"may continue to have negative effects on our investments, our access to liquidity, our ability to generate new sales and the costs associated with claims. In addition, in response to the crisis, new governmental, legislative and regulatory actions have been taken and continue to be developed that have resulted and could continue to result in additional restrictions and requirements, or court decisions rendered, relating to or otherwise affecting our policies that may have a negative impact on our business, operations and capital. General Insurance offers numerous products for which we are monitoring claims activity and assessing adverse impact on future new and renewal business in relation to the COVID-19 crisis. General Insurance had $2.4 billion of pre-tax catastrophe losses, net of reinsurance, in 2020, which included $1.1 billion of estimated COVID-19 losses primarily related to Commercial Property, Validus Re, contingency and travel. The remainder of the catastrophe losses were\"\n",
            "------------------------------\n",
            "Result #4\n",
            "Similarity: 0.6737 (from Year: 2020)\n",
            "Retrieved Chunk: \"AIG’s ability to effectively execute on AIG 200 transformational programs designed to achieve underwriting excellence, modernization of AIG’s operating infrastructure, enhanced user and customer experiences and unification of AIG;\n",
            "the impact of potential information technology, cybersecurity or data security breaches, including as a result of cyber-attacks or security vulnerabilities, the likelihood of which may increase due to extended remote business operations as a result of COVID-19;\n",
            "disruptions in the availability of AIG’s electronic data systems or those of third parties;\n",
            "availability and affordability of reinsurance;\n",
            "the effectiveness of our risk management policies and procedures, including with respect to our business continuity and disaster recovery plans;\n",
            "nonperformance or defaults by counterparties, including Fortitude Re;\n",
            "changes in judgments concerning potential cost-saving opportunities;\n",
            "concentrations in AIG’s investment portfolios;\"\n",
            "------------------------------\n",
            "Result #5\n",
            "Similarity: 0.6659 (from Year: 2020)\n",
            "Retrieved Chunk: \"significantly lower catastrophe losses;•\n",
            "favorable prior year loss reserve development in 2019 compared to unfavorable loss reserve development in 2018;•\n",
            "the lower accident year loss ratio, as adjusted primarily driven by a change in business mix including the Validus and Glatfelter acquisitions, improved new business and renewal terms, reduced net severity of loss events and changes in 2019 reinsurance programs which have reduced volatility; and•\n",
            "lower general operating expenses as a result of ongoing expense reduction initiatives. 90 AIG | 2020 Form 10-KTABLE OF CONTENTS ITEM 7 | Business Segment Operations | General Insurance North America Net Premiums Written(in millions)2020 and 2019 ComparisonNet premiums written decreased primarily due to:•\n",
            "higher ceded premiums due to the new series of quota share reinsurance agreements to reinsurance risks related to PCG;•\n",
            "the impact of COVID-19 most notably in Travel; and•\"\n",
            "------------------------------\n"
          ]
        }
      ]
    },
    {
      "cell_type": "code",
      "source": [
        "import pandas as pd\n",
        "from pyspark.sql import functions as F\n",
        "from pyspark.sql.window import Window"
      ],
      "metadata": {
        "id": "uF_Zdy4rzxtF"
      },
      "execution_count": null,
      "outputs": []
    },
    {
      "cell_type": "code",
      "source": [
        "# Validation\n",
        "#Our AIG query and the 5 ground truth chunks we identified\n",
        "aig_query = \"How did AIG's General Insurance operations perform in 2020, and what were the impacts of catastrophes and COVID-19?\"\n",
        "validation_texts = [\n",
        "    \"General Insurance reported pre-tax income of $1.1 billion for the year ended December 31, 2020 compared to a pre-tax loss of $103 million for the year ended December 31, 2019. The increase was primarily due to higher net investment income and improved underwriting results, partially offset by higher catastrophe losses.\",\n",
        "    \"The underwriting results for the year ended December 31, 2020 included catastrophe losses, net of reinsurance (CATs), of $1.1 billion. These CATs were primarily related to COVID-19, Hurricane Laura, the Midwest Derecho, and civil unrest in the U.S.\",\n",
        "    \"For the year ended December 31, 2020, we recorded $1.2 billion of estimated gross losses related to the COVID-19 pandemic, primarily in our travel, contingency, commercial property, trade credit, workers’ compensation and accident and health businesses.\",\n",
        "    \"The General Insurance combined ratio was 102.4 for the year ended December 31, 2020, compared to 101.3 for the year ended December 31, 2019. The accident year combined ratio, as adjusted, was 94.9, an improvement from 95.9 in the prior year, reflecting underwriting and reinsurance actions.\",\n",
        "    \"Net investment income for General Insurance increased 19 percent to $2.5 billion for the year ended December 31, 2020, compared to $2.1 billion for the year ended December 31, 2019, primarily due to higher returns from our alternative investments portfolio.\"\n",
        "]\n",
        "\n",
        "# Create a Pandas DataFrame first, then convert to Spark\n",
        "validation_pd_df = pd.DataFrame({\n",
        "    \"query\": [aig_query] * len(validation_texts),\n",
        "    \"ground_truth_chunk\": validation_texts\n",
        "})\n",
        "validation_df = spark.createDataFrame(validation_pd_df)\n",
        "\n",
        "print(\"--- Formalized Validation DataFrame ---\")\n",
        "validation_df.show(truncate=50)\n"
      ],
      "metadata": {
        "colab": {
          "base_uri": "https://localhost:8080/"
        },
        "id": "Mx6npPEfzrLJ",
        "outputId": "dbda25e7-8ffa-4fc2-d821-a70c6dce8313"
      },
      "execution_count": null,
      "outputs": [
        {
          "output_type": "stream",
          "name": "stdout",
          "text": [
            "--- Formalized Validation DataFrame ---\n",
            "+--------------------------------------------------+--------------------------------------------------+\n",
            "|                                             query|                                ground_truth_chunk|\n",
            "+--------------------------------------------------+--------------------------------------------------+\n",
            "|How did AIG's General Insurance operations perf...|General Insurance reported pre-tax income of $1...|\n",
            "|How did AIG's General Insurance operations perf...|The underwriting results for the year ended Dec...|\n",
            "|How did AIG's General Insurance operations perf...|For the year ended December 31, 2020, we record...|\n",
            "|How did AIG's General Insurance operations perf...|The General Insurance combined ratio was 102.4 ...|\n",
            "|How did AIG's General Insurance operations perf...|Net investment income for General Insurance inc...|\n",
            "+--------------------------------------------------+--------------------------------------------------+\n",
            "\n"
          ]
        }
      ]
    },
    {
      "cell_type": "code",
      "source": [
        "def evaluate_retrieval(retrieved_df, validation_df):\n",
        "    \"\"\"\n",
        "    Automates the evaluation of retrieved results against a ground truth validation set.\n",
        "\n",
        "    Args:\n",
        "        retrieved_df: DataFrame of results from our `intelligent_search` function.\n",
        "        validation_df: DataFrame containing the ground truth chunks.\n",
        "\n",
        "    Returns:\n",
        "        A DataFrame showing each retrieved chunk and its similarity to the closest ground truth.\n",
        "    \"\"\"\n",
        "    # Step A: Embed the ground truth chunks\n",
        "    validation_with_embeddings = validation_df.withColumn(\n",
        "        \"gt_embedding\",\n",
        "        generate_embeddings_udf(F.col(\"ground_truth_chunk\"))\n",
        "    )\n",
        "\n",
        "    # Step B: Cross Join to create all pairs of (retrieved_chunk, ground_truth_chunk)\n",
        "    # This allows us to compare every result against every possible correct answer.\n",
        "    # We add unique IDs to join on to avoid ambiguity.\n",
        "    retrieved_with_id = retrieved_df.withColumn(\"retrieved_id\", F.monotonically_increasing_id())\n",
        "    validation_with_id = validation_with_embeddings.withColumn(\"gt_id\", F.monotonically_increasing_id())\n",
        "\n",
        "    comparison_df = retrieved_with_id.crossJoin(validation_with_id)\n",
        "\n",
        "    # Step C: Calculate cosine similarity for every pair\n",
        "    # We need a new UDF that takes two embedding columns\n",
        "    @udf(returnType=FloatType())\n",
        "    def compare_embeddings_udf(embedding1, embedding2):\n",
        "        vec1 = np.array(embedding1, dtype=np.float32)\n",
        "        vec2 = np.array(embedding2, dtype=np.float32)\n",
        "        dot_product = np.dot(vec1, vec2)\n",
        "        norm1 = np.linalg.norm(vec1)\n",
        "        norm2 = np.linalg.norm(vec2)\n",
        "        if norm1 == 0 or norm2 == 0:\n",
        "            return 0.0\n",
        "        return float(dot_product / (norm1 * norm2))\n",
        "\n",
        "    similarity_df = comparison_df.withColumn(\n",
        "        \"gt_similarity\",\n",
        "        compare_embeddings_udf(F.col(\"embedding\"), F.col(\"gt_embedding\"))\n",
        "    )\n",
        "\n",
        "    # Step D: For each retrieved chunk, find its BEST match in the ground truth set\n",
        "    window = Window.partitionBy(\"retrieved_id\").orderBy(F.desc(\"gt_similarity\"))\n",
        "    best_match_df = similarity_df.withColumn(\"rank\", F.rank().over(window)).filter(F.col(\"rank\") == 1)\n",
        "\n",
        "    # Step E: Select final columns for a clean report\n",
        "    final_report_df = best_match_df.select(\n",
        "        F.col(\"retrieved_id\"),\n",
        "        F.col(\"chunk\").alias(\"retrieved_chunk\"),\n",
        "        F.col(\"similarity\").alias(\"original_query_similarity\"),\n",
        "        F.col(\"gt_similarity\").alias(\"best_match_to_ground_truth\"),\n",
        "        F.col(\"ground_truth_chunk\")\n",
        "    ).orderBy(F.desc(\"original_query_similarity\"))\n",
        "\n",
        "    return final_report_df"
      ],
      "metadata": {
        "id": "mrkMsIjTz6XS"
      },
      "execution_count": null,
      "outputs": []
    },
    {
      "cell_type": "code",
      "source": [
        "# --- 3. Run the Evaluation ---\n",
        "\n",
        "# get the retrieved results from our search function\n",
        "aig_results = intelligent_search(aig_query, embeddings_df_with_year, top_k=5)\n",
        "\n",
        "# evaluate those results automatically\n",
        "evaluation_report = evaluate_retrieval(aig_results, validation_df)\n",
        "\n",
        "print(\"\\n\\n--- Automated Evaluation Report ---\")\n",
        "evaluation_report.show(truncate=60)\n",
        "\n",
        "# Calculate the Final Metric ---\n",
        "final_metric = evaluation_report.agg(F.avg(\"best_match_to_ground_truth\")).first()[0]\n",
        "\n",
        "print(f\"\\n\\n--- Final Retrieval Quality Score ---\")\n",
        "print(f\"Average Similarity to Ground Truth for Top 5 Results: {final_metric:.4f}\")"
      ],
      "metadata": {
        "colab": {
          "base_uri": "https://localhost:8080/"
        },
        "id": "8erBoayBz816",
        "outputId": "0ee8dab5-9043-4648-85a2-ce7f078bd2f8"
      },
      "execution_count": null,
      "outputs": [
        {
          "output_type": "stream",
          "name": "stdout",
          "text": [
            "Received Query: \"How did AIG's General Insurance operations perform in 2020, and what were the impacts of catastrophes and COVID-19?\"\n",
            "--> Year '2020' detected in query. Filtering data...\n",
            "Searching 2169 chunks...\n",
            "\n",
            "\n",
            "--- Automated Evaluation Report ---\n",
            "+------------+------------------------------------------------------------+-------------------------+--------------------------+------------------------------------------------------------+\n",
            "|retrieved_id|                                             retrieved_chunk|original_query_similarity|best_match_to_ground_truth|                                          ground_truth_chunk|\n",
            "+------------+------------------------------------------------------------+-------------------------+--------------------------+------------------------------------------------------------+\n",
            "|           0|the adverse impact of COVID-19, including with respect to...|               0.71020263|                 0.5072854|For the year ended December 31, 2020, we recorded $1.2 bi...|\n",
            "|           1|1 | Business   Maximizing Industry Leadership and Global ...|                0.6997771|                 0.4160262|Net investment income for General Insurance increased 19 ...|\n",
            "|           2|may continue to have negative effects on our investments,...|                0.6923419|                 0.7239093|General Insurance reported pre-tax income of $1.1 billion...|\n",
            "|           3|AIG’s ability to effectively execute on AIG 200 transform...|               0.67367333|                 0.3756153|The underwriting results for the year ended December 31, ...|\n",
            "|           4|significantly lower catastrophe losses;•\\nfavorable prior...|                0.6658819|                0.62515837|The General Insurance combined ratio was 102.4 for the ye...|\n",
            "+------------+------------------------------------------------------------+-------------------------+--------------------------+------------------------------------------------------------+\n",
            "\n",
            "\n",
            "\n",
            "--- Final Retrieval Quality Score ---\n",
            "Average Similarity to Ground Truth for Top 5 Results: 0.5296\n"
          ]
        }
      ]
    },
    {
      "cell_type": "code",
      "source": [
        "# --- New, FOCUSED query ---\n",
        "focused_query = \"What were the catastrophe losses for General Insurance in 2020?\"\n",
        "\n",
        "# run the search with the new query ---\n",
        "print(f\"--- RUNNING WITH FOCUSED QUERY ---\")\n",
        "focused_results = intelligent_search(focused_query, embeddings_df_with_year, top_k=5)\n",
        "\n",
        "# Evaluate the new results automatically ---\n",
        "evaluation_report_focused = evaluate_retrieval(focused_results, validation_df)\n",
        "\n",
        "print(\"\\n\\n--- Automated Evaluation Report (Focused Query) ---\")\n",
        "evaluation_report_focused.show(truncate=60)\n",
        "\n",
        "# Calculate the new Final Metric ---\n",
        "final_metric_focused = evaluation_report_focused.agg(F.avg(\"best_match_to_ground_truth\")).first()[0]\n",
        "\n",
        "print(f\"\\n\\n--- Final Retrieval Quality Score (Focused Query) ---\")\n",
        "print(f\"Average Similarity to Ground Truth for Top 5 Results: {final_metric_focused:.4f}\")"
      ],
      "metadata": {
        "colab": {
          "base_uri": "https://localhost:8080/"
        },
        "id": "RcHaemMA188s",
        "outputId": "ace5769a-8f07-4d12-cac1-733733078aa1"
      },
      "execution_count": null,
      "outputs": [
        {
          "output_type": "stream",
          "name": "stdout",
          "text": [
            "--- RUNNING WITH FOCUSED QUERY ---\n",
            "Received Query: \"What were the catastrophe losses for General Insurance in 2020?\"\n",
            "--> Year '2020' detected in query. Filtering data...\n",
            "Searching 2169 chunks...\n",
            "\n",
            "\n",
            "--- Automated Evaluation Report (Focused Query) ---\n",
            "+------------+------------------------------------------------------------+-------------------------+--------------------------+------------------------------------------------------------+\n",
            "|retrieved_id|                                             retrieved_chunk|original_query_similarity|best_match_to_ground_truth|                                          ground_truth_chunk|\n",
            "+------------+------------------------------------------------------------+-------------------------+--------------------------+------------------------------------------------------------+\n",
            "|           0|may continue to have negative effects on our investments,...|               0.77360296|                 0.7239093|General Insurance reported pre-tax income of $1.1 billion...|\n",
            "|           1|significantly lower catastrophe losses;•\\nfavorable prior...|                0.7058422|                0.62515837|The General Insurance combined ratio was 102.4 for the ye...|\n",
            "|           2|of reinsurance, on an annual aggregate basis. The 1-in-10...|               0.69005007|                 0.6156027|The underwriting results for the year ended December 31, ...|\n",
            "|           3|Accident year loss and combined ratios, as adjusted: both...|               0.68672496|                0.63533837|The General Insurance combined ratio was 102.4 for the ye...|\n",
            "|           4|America:      U.S. Workers' Compensation$(396)$(18)$(378)...|               0.67493737|                0.60060453|General Insurance reported pre-tax income of $1.1 billion...|\n",
            "+------------+------------------------------------------------------------+-------------------------+--------------------------+------------------------------------------------------------+\n",
            "\n",
            "\n",
            "\n",
            "--- Final Retrieval Quality Score (Focused Query) ---\n",
            "Average Similarity to Ground Truth for Top 5 Results: 0.6401\n"
          ]
        }
      ]
    },
    {
      "cell_type": "code",
      "source": [
        "import matplotlib.pyplot as plt\n",
        "import pandas as pd\n",
        "\n",
        "# Data obtained from our PySpark evaluation\n",
        "scores = {\n",
        "    'Complex Query': final_metric,\n",
        "    'Focused Query': final_metric_focused # Use the actual score you get here\n",
        "}\n",
        "\n",
        "df_plot = pd.DataFrame(list(scores.items()), columns=['Query Type', 'Accuracy Score'])\n",
        "\n",
        "# Create the bar plot\n",
        "plt.figure(figsize=(8, 6))\n",
        "bars = plt.bar(df_plot['Query Type'], df_plot['Accuracy Score'], color=['#ff9999','#66b3ff'])\n",
        "plt.ylabel('Average Similarity to Ground Truth')\n",
        "plt.title('Impact of Query Specificity on Retrieval Accuracy')\n",
        "plt.ylim(0, 1.0)\n",
        "\n",
        "# Add the score labels on top of the bars\n",
        "for bar in bars:\n",
        "    yval = bar.get_height()\n",
        "    plt.text(bar.get_x() + bar.get_width()/2.0, yval, f'{yval:.4f}', va='bottom', ha='center')\n",
        "\n",
        "# Save the plot as a JPEG\n",
        "plt.savefig('query_performance_comparison.jpeg', dpi=300)\n",
        "\n",
        "plt.show()"
      ],
      "metadata": {
        "colab": {
          "base_uri": "https://localhost:8080/",
          "height": 545
        },
        "collapsed": true,
        "id": "WsKGBWoVyur6",
        "outputId": "60c8f54b-c728-45b9-87f2-c1486c3998da"
      },
      "execution_count": null,
      "outputs": [
        {
          "output_type": "display_data",
          "data": {
            "text/plain": [
              "<Figure size 800x600 with 1 Axes>"
            ],
            "image/png": "[encoded data removed]"
          },
          "metadata": {}
        }
      ]
    },
    {
      "cell_type": "code",
      "source": [
        "!pip install google-generativeai"
      ],
      "metadata": {
        "id": "aU-XGGJTyAiN"
      },
      "execution_count": null,
      "outputs": []
    },
    {
      "cell_type": "code",
      "source": [
        "import os\n",
        "import google.generativeai as genai\n",
        "\n",
        "# --- Configure the Gemini API ---\n",
        "try:\n",
        "    GOOGLE_API_KEY = os.getenv(\"ENTER-API-KEY\")\n",
        "    genai.configure(api_key=\"ENTER-API-KEY\")\n",
        "except TypeError:\n",
        "    GOOGLE_API_KEY = \"ENTER-API-KEY\"\n",
        "    genai.configure(api_key=GOOGLE_API_KEY)\n",
        "\n",
        "\n",
        "def generate_gemini_response(query: str, retrieved_chunks: list):\n",
        "    \"\"\"\n",
        "    Uses Google's Gemini model to synthesize an answer from retrieved text chunks.\n",
        "\n",
        "    Args:\n",
        "        query (str): The user's original question.\n",
        "        retrieved_chunks (list): A list of text chunks retrieved from the document.\n",
        "\n",
        "    Returns:\n",
        "        str: A synthesized, human-readable answer from Gemini.\n",
        "    \"\"\"\n",
        "\n",
        "    context_str = \"\"\n",
        "    for i, chunk in enumerate(retrieved_chunks):\n",
        "        context_str += f\"--- Context Chunk {i+1} ---\\n{chunk}\\n\\n\"\n",
        "\n",
        "    # 3.prompt for the Gemini model\n",
        "    # We combine the instructions (system prompt) and the data (user prompt)\n",
        "    # into a single prompt, which is a common and effective pattern for Gemini.\n",
        "    full_prompt = f\"\"\"\n",
        "    **Instructions:**\n",
        "    You are a highly skilled financial analyst. Your task is to answer a user's question based\n",
        "    EXCLUSIVELY on the provided context from a company's 10-K SEC filing.\n",
        "\n",
        "    **Rules:**\n",
        "    1.  Synthesize the information from the provided context chunks into a single, coherent paragraph.\n",
        "    2.  Do not use any external knowledge or information.\n",
        "    3.  If the provided context does not contain enough information to answer the question,\n",
        "        you must state: \"The provided context does not contain sufficient information to answer this question.\"\n",
        "    4.  Quote specific numbers and facts directly from the context.\n",
        "\n",
        "    **CONTEXT FROM SEC FILING:**\n",
        "    {context_str}\n",
        "\n",
        "    **USER'S QUESTION:**\n",
        "    {query}\n",
        "\n",
        "    **Answer:**\n",
        "    \"\"\"\n",
        "\n",
        "    # API Call\n",
        "    try:\n",
        "        # Initialize the model\n",
        "        model = genai.GenerativeModel('gemini-2.0-flash')\n",
        "\n",
        "        # Set generation config for factual responses\n",
        "        generation_config = genai.types.GenerationConfig(temperature=0.0)\n",
        "\n",
        "        # Generate the content\n",
        "        response = model.generate_content(\n",
        "            full_prompt,\n",
        "            generation_config=generation_config\n",
        "        )\n",
        "        return response.text\n",
        "    except Exception as e:\n",
        "        return f\"An error occurred with the Gemini API: {e}\"\n",
        "\n",
        "# --- Demonstration ---\n",
        "\n",
        "# the same best query and results from our previous step\n",
        "focused_query = \"What were the catastrophe losses for General Insurance in 2020?\"\n",
        "\n",
        "# First, run the search to get the best chunks\n",
        "focused_results_df = intelligent_search(focused_query, embeddings_df_with_year, top_k=3)\n",
        "retrieved_chunks_list = [row['chunk'] for row in focused_results_df.collect()]\n",
        "\n",
        "# Now, pass the query and the retrieved chunks to the Gemini LLM\n",
        "if retrieved_chunks_list:\n",
        "    print(\"--- Context Chunks Being Sent to LLM ---\")\n",
        "    for i, chunk in enumerate(retrieved_chunks_list):\n",
        "        print(f\"[{i+1}] {chunk[:200]}...\")\n",
        "    print(\"\\n\" + \"=\"*50 + \"\\n\")\n",
        "\n",
        "    final_answer = generate_gemini_response(focused_query, retrieved_chunks_list)\n",
        "\n",
        "    print(\"--- Final Synthesized Answer from Gemini ---\")\n",
        "    print(final_answer)\n",
        "else:\n",
        "    print(\"No relevant chunks were retrieved to send to the LLM.\")"
      ],
      "metadata": {
        "colab": {
          "base_uri": "https://localhost:8080/",
          "height": 311
        },
        "id": "pw3laIKEsp9A",
        "outputId": "84235474-81fa-4fff-e3b1-832892b3fb90"
      },
      "execution_count": null,
      "outputs": [
        {
          "output_type": "stream",
          "name": "stdout",
          "text": [
            "Received Query: \"What were the catastrophe losses for General Insurance in 2020?\"\n",
            "--> Year '2020' detected in query. Filtering data...\n",
            "Searching 2169 chunks...\n",
            "--- Context Chunks Being Sent to LLM ---\n",
            "[1] may continue to have negative effects on our investments, our access to liquidity, our ability to generate new sales and the costs associated with claims. In addition, in response to the crisis, new g...\n",
            "[2] significantly lower catastrophe losses;•\n",
            "favorable prior year loss reserve development in 2019 compared to unfavorable loss reserve development in 2018;•\n",
            "the lower accident year loss ratio, as adjuste...\n",
            "[3] of reinsurance, on an annual aggregate basis. The 1-in-100 and 1-in-250 PMLs are the annual aggregate probable maximum losses with probability of 1 percent and 0.4 percent in a year, respectively. Est...\n",
            "\n",
            "==================================================\n",
            "\n",
            "--- Final Synthesized Answer from Gemini ---\n",
            "In 2020, General Insurance had pre-tax catastrophe losses, net of reinsurance, of $2.4 billion, which included $1.1 billion of estimated COVID-19 losses primarily related to Commercial Property, Validus Re, contingency and travel.\n",
            "\n"
          ]
        }
      ]
    },
    {
      "cell_type": "code",
      "execution_count": null,
      "metadata": {
        "id": "rQGxAdBKoFZs"
      },
      "outputs": [],
      "source": [
        "# Stop the Spark Session\n",
        "spark.stop()"
      ]
    }
  ]
}
